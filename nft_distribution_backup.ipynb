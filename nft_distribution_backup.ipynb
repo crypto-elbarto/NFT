{
  "cells": [
    {
      "cell_type": "code",
      "execution_count": 1,
      "metadata": {
        "id": "bB4mhy1tmJYQ"
      },
      "outputs": [],
      "source": [
        "import pandas as pd\n",
        "import http.client\n",
        "import requests\n",
        "import json\n",
        "from pandas.io.json import json_normalize\n",
        "import time\n",
        "import datetime as dt"
      ]
    },
    {
      "cell_type": "code",
      "execution_count": 4,
      "metadata": {
        "id": "1fK-RAFLmJYU",
        "colab": {
          "base_uri": "https://localhost:8080/"
        },
        "outputId": "b46c3ccc-346f-4ef3-a3bb-1b5a3485a9ed"
      },
      "outputs": [
        {
          "output_type": "stream",
          "name": "stdout",
          "text": [
            "Authenticated\n"
          ]
        }
      ],
      "source": [
        "from google.colab import auth\n",
        "auth.authenticate_user()\n",
        "print('Authenticated')"
      ]
    },
    {
      "cell_type": "code",
      "source": [
        "from google.cloud import bigquery\n",
        "project_id = ''\n",
        "client = bigquery.Client(project=project_id)"
      ],
      "metadata": {
        "id": "adI6Q9wQmeNJ"
      },
      "execution_count": 5,
      "outputs": []
    },
    {
      "cell_type": "code",
      "execution_count": 6,
      "metadata": {
        "id": "gSK3IeUKmJYU"
      },
      "outputs": [],
      "source": [
        "newpd = client.query('''\n",
        "  select nle.name\n",
        "    ,to_address\n",
        "    ,date(deployed_at)\n",
        "    ,min(date(block_timestamp)) as max_date\n",
        "  from `nansen-query.nft_ethereum.nft_list_enriched` nle\n",
        "  inner join `nansen-query.nft_ethereum.nft_transfers_all_with_context` taw on nle.project_id = taw.project_id\n",
        "  inner join `nansen-query.nft_ethereum.nft_balances` nbal on nbal.address = taw.to_address and nbal.project_id = taw.project_id\n",
        "  where nle.project_id in ('0xbd3531da5cf5857e7cfaa92426877b022e612cf8',\n",
        "                      '0x8a90cab2b38dba80c64b7734e58ee1db38b8992e',\n",
        "                      '0xbc4ca0eda7647a8ab7c2061c2e118a18a936f13d',\n",
        "                      '0x23581767a106ae21c074b2276d25e5c3e136a68b',\n",
        "                      '0x49cf6f5d44e70224e2e23fdcdd2c053f30ada28b',\n",
        "                      '0xed5af388653567af2f388e6224dc7c4b3241c544')\n",
        "and nbal.nft_balance>0\n",
        "group by nle.name,to_address,date(deployed_at)''').to_dataframe()"
      ]
    },
    {
      "cell_type": "code",
      "source": [
        "newpd.columns =['name','token_id','create_date','max_date']"
      ],
      "metadata": {
        "id": "lFS8wtd5zCyV"
      },
      "execution_count": 7,
      "outputs": []
    },
    {
      "cell_type": "code",
      "source": [
        "newpd['create_date'] = pd.to_datetime(newpd['create_date'])"
      ],
      "metadata": {
        "id": "NWvt-Cw2z6mk"
      },
      "execution_count": 8,
      "outputs": []
    },
    {
      "cell_type": "code",
      "source": [
        "newpd['max_date'] = pd.to_datetime(newpd['max_date'])"
      ],
      "metadata": {
        "id": "Og0lEvzs0ZsO"
      },
      "execution_count": 9,
      "outputs": []
    },
    {
      "cell_type": "code",
      "source": [
        "newpd['current_date'] = '2022-10-15'"
      ],
      "metadata": {
        "id": "ug-8TIiM1ACi"
      },
      "execution_count": 10,
      "outputs": []
    },
    {
      "cell_type": "code",
      "source": [
        "newpd['current_date'] = pd.to_datetime(newpd['current_date'])"
      ],
      "metadata": {
        "id": "TmIH0iC3zMLW"
      },
      "execution_count": 11,
      "outputs": []
    },
    {
      "cell_type": "code",
      "source": [
        "newpd['day_diff'] = ( newpd['current_date'] - newpd['max_date']).dt.days"
      ],
      "metadata": {
        "id": "WlB6jeyU-Bb1"
      },
      "execution_count": 12,
      "outputs": []
    },
    {
      "cell_type": "code",
      "source": [
        "newpd['days_alive'] = ( newpd['current_date'] - newpd['create_date']).dt.days"
      ],
      "metadata": {
        "id": "FgxeXVkV1RbE"
      },
      "execution_count": 13,
      "outputs": []
    },
    {
      "cell_type": "code",
      "source": [
        "newpd.head()"
      ],
      "metadata": {
        "colab": {
          "base_uri": "https://localhost:8080/",
          "height": 206
        },
        "id": "0YYfyzVQzmbL",
        "outputId": "3e354da7-1c69-47d0-d88d-8c88522ae99f"
      },
      "execution_count": 14,
      "outputs": [
        {
          "output_type": "execute_result",
          "data": {
            "text/plain": [
              "                   name                                    token_id  \\\n",
              "0                CloneX  0x51ae5a026d6adf7d33f7c215cdd893866020aba2   \n",
              "1  Bored Ape Yacht Club  0xb6c587a6e052161348f5a5736d398d0b5eb748ce   \n",
              "2  Bored Ape Yacht Club  0x44b51387773ce3581156d9accb27849a204f31dc   \n",
              "3             Moonbirds  0x272912651d5c58d8fe9ac6e8cfed84bdf9406e27   \n",
              "4                 Azuki  0x124183252c86e093f78e5994916f044d7549bd1e   \n",
              "\n",
              "  create_date   max_date current_date  day_diff  days_alive  \n",
              "0  2021-12-12 2022-04-07   2022-10-15       191         307  \n",
              "1  2021-04-22 2021-12-04   2022-10-15       315         541  \n",
              "2  2021-04-22 2021-06-23   2022-10-15       479         541  \n",
              "3  2022-04-15 2022-06-12   2022-10-15       125         183  \n",
              "4  2022-01-10 2022-01-15   2022-10-15       273         278  "
            ],
            "text/html": [
              "\n",
              "  <div id=\"df-e628267c-a197-40e6-b4c5-de0f3bc450f8\">\n",
              "    <div class=\"colab-df-container\">\n",
              "      <div>\n",
              "<style scoped>\n",
              "    .dataframe tbody tr th:only-of-type {\n",
              "        vertical-align: middle;\n",
              "    }\n",
              "\n",
              "    .dataframe tbody tr th {\n",
              "        vertical-align: top;\n",
              "    }\n",
              "\n",
              "    .dataframe thead th {\n",
              "        text-align: right;\n",
              "    }\n",
              "</style>\n",
              "<table border=\"1\" class=\"dataframe\">\n",
              "  <thead>\n",
              "    <tr style=\"text-align: right;\">\n",
              "      <th></th>\n",
              "      <th>name</th>\n",
              "      <th>token_id</th>\n",
              "      <th>create_date</th>\n",
              "      <th>max_date</th>\n",
              "      <th>current_date</th>\n",
              "      <th>day_diff</th>\n",
              "      <th>days_alive</th>\n",
              "    </tr>\n",
              "  </thead>\n",
              "  <tbody>\n",
              "    <tr>\n",
              "      <th>0</th>\n",
              "      <td>CloneX</td>\n",
              "      <td>0x51ae5a026d6adf7d33f7c215cdd893866020aba2</td>\n",
              "      <td>2021-12-12</td>\n",
              "      <td>2022-04-07</td>\n",
              "      <td>2022-10-15</td>\n",
              "      <td>191</td>\n",
              "      <td>307</td>\n",
              "    </tr>\n",
              "    <tr>\n",
              "      <th>1</th>\n",
              "      <td>Bored Ape Yacht Club</td>\n",
              "      <td>0xb6c587a6e052161348f5a5736d398d0b5eb748ce</td>\n",
              "      <td>2021-04-22</td>\n",
              "      <td>2021-12-04</td>\n",
              "      <td>2022-10-15</td>\n",
              "      <td>315</td>\n",
              "      <td>541</td>\n",
              "    </tr>\n",
              "    <tr>\n",
              "      <th>2</th>\n",
              "      <td>Bored Ape Yacht Club</td>\n",
              "      <td>0x44b51387773ce3581156d9accb27849a204f31dc</td>\n",
              "      <td>2021-04-22</td>\n",
              "      <td>2021-06-23</td>\n",
              "      <td>2022-10-15</td>\n",
              "      <td>479</td>\n",
              "      <td>541</td>\n",
              "    </tr>\n",
              "    <tr>\n",
              "      <th>3</th>\n",
              "      <td>Moonbirds</td>\n",
              "      <td>0x272912651d5c58d8fe9ac6e8cfed84bdf9406e27</td>\n",
              "      <td>2022-04-15</td>\n",
              "      <td>2022-06-12</td>\n",
              "      <td>2022-10-15</td>\n",
              "      <td>125</td>\n",
              "      <td>183</td>\n",
              "    </tr>\n",
              "    <tr>\n",
              "      <th>4</th>\n",
              "      <td>Azuki</td>\n",
              "      <td>0x124183252c86e093f78e5994916f044d7549bd1e</td>\n",
              "      <td>2022-01-10</td>\n",
              "      <td>2022-01-15</td>\n",
              "      <td>2022-10-15</td>\n",
              "      <td>273</td>\n",
              "      <td>278</td>\n",
              "    </tr>\n",
              "  </tbody>\n",
              "</table>\n",
              "</div>\n",
              "      <button class=\"colab-df-convert\" onclick=\"convertToInteractive('df-e628267c-a197-40e6-b4c5-de0f3bc450f8')\"\n",
              "              title=\"Convert this dataframe to an interactive table.\"\n",
              "              style=\"display:none;\">\n",
              "        \n",
              "  <svg xmlns=\"http://www.w3.org/2000/svg\" height=\"24px\"viewBox=\"0 0 24 24\"\n",
              "       width=\"24px\">\n",
              "    <path d=\"M0 0h24v24H0V0z\" fill=\"none\"/>\n",
              "    <path d=\"M18.56 5.44l.94 2.06.94-2.06 2.06-.94-2.06-.94-.94-2.06-.94 2.06-2.06.94zm-11 1L8.5 8.5l.94-2.06 2.06-.94-2.06-.94L8.5 2.5l-.94 2.06-2.06.94zm10 10l.94 2.06.94-2.06 2.06-.94-2.06-.94-.94-2.06-.94 2.06-2.06.94z\"/><path d=\"M17.41 7.96l-1.37-1.37c-.4-.4-.92-.59-1.43-.59-.52 0-1.04.2-1.43.59L10.3 9.45l-7.72 7.72c-.78.78-.78 2.05 0 2.83L4 21.41c.39.39.9.59 1.41.59.51 0 1.02-.2 1.41-.59l7.78-7.78 2.81-2.81c.8-.78.8-2.07 0-2.86zM5.41 20L4 18.59l7.72-7.72 1.47 1.35L5.41 20z\"/>\n",
              "  </svg>\n",
              "      </button>\n",
              "      \n",
              "  <style>\n",
              "    .colab-df-container {\n",
              "      display:flex;\n",
              "      flex-wrap:wrap;\n",
              "      gap: 12px;\n",
              "    }\n",
              "\n",
              "    .colab-df-convert {\n",
              "      background-color: #E8F0FE;\n",
              "      border: none;\n",
              "      border-radius: 50%;\n",
              "      cursor: pointer;\n",
              "      display: none;\n",
              "      fill: #1967D2;\n",
              "      height: 32px;\n",
              "      padding: 0 0 0 0;\n",
              "      width: 32px;\n",
              "    }\n",
              "\n",
              "    .colab-df-convert:hover {\n",
              "      background-color: #E2EBFA;\n",
              "      box-shadow: 0px 1px 2px rgba(60, 64, 67, 0.3), 0px 1px 3px 1px rgba(60, 64, 67, 0.15);\n",
              "      fill: #174EA6;\n",
              "    }\n",
              "\n",
              "    [theme=dark] .colab-df-convert {\n",
              "      background-color: #3B4455;\n",
              "      fill: #D2E3FC;\n",
              "    }\n",
              "\n",
              "    [theme=dark] .colab-df-convert:hover {\n",
              "      background-color: #434B5C;\n",
              "      box-shadow: 0px 1px 3px 1px rgba(0, 0, 0, 0.15);\n",
              "      filter: drop-shadow(0px 1px 2px rgba(0, 0, 0, 0.3));\n",
              "      fill: #FFFFFF;\n",
              "    }\n",
              "  </style>\n",
              "\n",
              "      <script>\n",
              "        const buttonEl =\n",
              "          document.querySelector('#df-e628267c-a197-40e6-b4c5-de0f3bc450f8 button.colab-df-convert');\n",
              "        buttonEl.style.display =\n",
              "          google.colab.kernel.accessAllowed ? 'block' : 'none';\n",
              "\n",
              "        async function convertToInteractive(key) {\n",
              "          const element = document.querySelector('#df-e628267c-a197-40e6-b4c5-de0f3bc450f8');\n",
              "          const dataTable =\n",
              "            await google.colab.kernel.invokeFunction('convertToInteractive',\n",
              "                                                     [key], {});\n",
              "          if (!dataTable) return;\n",
              "\n",
              "          const docLinkHtml = 'Like what you see? Visit the ' +\n",
              "            '<a target=\"_blank\" href=https://colab.research.google.com/notebooks/data_table.ipynb>data table notebook</a>'\n",
              "            + ' to learn more about interactive tables.';\n",
              "          element.innerHTML = '';\n",
              "          dataTable['output_type'] = 'display_data';\n",
              "          await google.colab.output.renderOutput(dataTable, element);\n",
              "          const docLink = document.createElement('div');\n",
              "          docLink.innerHTML = docLinkHtml;\n",
              "          element.appendChild(docLink);\n",
              "        }\n",
              "      </script>\n",
              "    </div>\n",
              "  </div>\n",
              "  "
            ]
          },
          "metadata": {},
          "execution_count": 14
        }
      ]
    },
    {
      "cell_type": "code",
      "source": [
        "newpd['Percent of Lifetime Owned'] =  newpd['day_diff']/newpd['days_alive']"
      ],
      "metadata": {
        "id": "CopZHNToznLe"
      },
      "execution_count": 15,
      "outputs": []
    },
    {
      "cell_type": "code",
      "source": [
        "import seaborn as sns\n",
        "import matplotlib.pyplot as plt\n",
        "sns.set(style=\"darkgrid\")"
      ],
      "metadata": {
        "id": "Iuk__lBq103t"
      },
      "execution_count": 17,
      "outputs": []
    },
    {
      "cell_type": "code",
      "source": [
        "sns.distplot(newpd[newpd['name']=='Doodles']['Percent of Lifetime Owned'], color=\"blue\", label=\"Doodles\",hist=False)\n",
        "sns.distplot(newpd[newpd['name']=='Bored Ape Yacht Club']['Percent of Lifetime Owned'], color=\"orange\", label=\"Bored Ape Yacht Club\",hist=False)\n",
        "sns.distplot(newpd[newpd['name']=='Pudgy Penguins']['Percent of Lifetime Owned'], color=\"green\", label=\"Pudgy Penguins\",hist=False)\n",
        "plt.title('How Old are Current Owners')\n",
        "plt.legend(bbox_to_anchor=(1.1, 1.05))\n",
        "plt.show()"
      ],
      "metadata": {
        "colab": {
          "base_uri": "https://localhost:8080/",
          "height": 428
        },
        "id": "NWt9_Pwr2hue",
        "outputId": "b5d5c10a-20a0-49d8-d82e-2b3bd7855185"
      },
      "execution_count": 19,
      "outputs": [
        {
          "output_type": "stream",
          "name": "stderr",
          "text": [
            "/usr/local/lib/python3.7/dist-packages/seaborn/distributions.py:2619: FutureWarning: `distplot` is a deprecated function and will be removed in a future version. Please adapt your code to use either `displot` (a figure-level function with similar flexibility) or `kdeplot` (an axes-level function for kernel density plots).\n",
            "  warnings.warn(msg, FutureWarning)\n",
            "/usr/local/lib/python3.7/dist-packages/seaborn/distributions.py:2619: FutureWarning: `distplot` is a deprecated function and will be removed in a future version. Please adapt your code to use either `displot` (a figure-level function with similar flexibility) or `kdeplot` (an axes-level function for kernel density plots).\n",
            "  warnings.warn(msg, FutureWarning)\n",
            "/usr/local/lib/python3.7/dist-packages/seaborn/distributions.py:2619: FutureWarning: `distplot` is a deprecated function and will be removed in a future version. Please adapt your code to use either `displot` (a figure-level function with similar flexibility) or `kdeplot` (an axes-level function for kernel density plots).\n",
            "  warnings.warn(msg, FutureWarning)\n"
          ]
        },
        {
          "output_type": "display_data",
          "data": {
            "text/plain": [
              "<Figure size 432x288 with 1 Axes>"
            ],
            "image/png": "[encoded data removed]"
          },
          "metadata": {}
        }
      ]
    },
    {
      "cell_type": "code",
      "source": [],
      "metadata": {
        "id": "7w56g6tU5x69"
      },
      "execution_count": null,
      "outputs": []
    }
  ],
  "metadata": {
    "kernelspec": {
      "display_name": "Python 3",
      "language": "python",
      "name": "python3"
    },
    "language_info": {
      "codemirror_mode": {
        "name": "ipython",
        "version": 3
      },
      "file_extension": ".py",
      "mimetype": "text/x-python",
      "name": "python",
      "nbconvert_exporter": "python",
      "pygments_lexer": "ipython3",
      "version": "3.8.3"
    },
    "colab": {
      "provenance": []
    }
  },
  "nbformat": 4,
  "nbformat_minor": 0
}